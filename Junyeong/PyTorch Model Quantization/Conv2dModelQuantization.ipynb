{
 "cells": [
  {
   "cell_type": "code",
   "execution_count": null,
   "id": "2d2d2f2f",
   "metadata": {},
   "outputs": [],
   "source": [
    "# torch 설치\n",
    "!pip install torch"
   ]
  },
  {
   "cell_type": "markdown",
   "id": "0611ad8b",
   "metadata": {},
   "source": [
    "출처 : https://pytorch.org/docs/stable/quantization.html#quantization-api-summary"
   ]
  },
  {
   "cell_type": "markdown",
   "id": "42c0a84b",
   "metadata": {},
   "source": [
    "# Conv2d Model"
   ]
  },
  {
   "cell_type": "code",
   "execution_count": 31,
   "id": "c7c6a5f3",
   "metadata": {},
   "outputs": [],
   "source": [
    "import torch\n",
    "import torch.nn as nn\n",
    "\n",
    "class SingleConvModel(nn.Module):\n",
    "    def __init__(self, in_channels, out_channels, kernel_size):\n",
    "        super(SingleConvModel, self).__init__()\n",
    "        self.conv = nn.Conv2d(in_channels, out_channels, kernel_size)\n",
    "\n",
    "    def forward(self, x):\n",
    "        x = self.conv(x)\n",
    "        return x\n",
    "\n",
    "# 모델 인스턴스 생성\n",
    "in_channels = 1  # 입력 이미지의 채널 수 (예: RGB 이미지의 경우 3)\n",
    "out_channels = 1  # 출력 채널 수\n",
    "kernel_size = 3  # 컨볼루션 커널 크기 (3x3 커널)\n",
    "\n",
    "model = SingleConvModel(in_channels, out_channels, kernel_size)"
   ]
  },
  {
   "cell_type": "code",
   "execution_count": 32,
   "id": "a885f305",
   "metadata": {},
   "outputs": [
    {
     "name": "stdout",
     "output_type": "stream",
     "text": [
      "SingleConvModel(\n",
      "  (conv): Conv2d(1, 1, kernel_size=(3, 3), stride=(1, 1))\n",
      ")\n",
      "OrderedDict([('conv.weight', tensor([[[[-0.1645,  0.2326,  0.1386],\n",
      "          [-0.2683,  0.2556,  0.0943],\n",
      "          [-0.2318,  0.0654,  0.0817]]]])), ('conv.bias', tensor([-0.1088]))])\n"
     ]
    }
   ],
   "source": [
    "print(model)\n",
    "model_s = model.state_dict()\n",
    "print(model_s)"
   ]
  },
  {
   "cell_type": "markdown",
   "id": "a396561c",
   "metadata": {},
   "source": [
    "# 동적 양자화"
   ]
  },
  {
   "cell_type": "code",
   "execution_count": 33,
   "id": "99467b00",
   "metadata": {},
   "outputs": [
    {
     "name": "stdout",
     "output_type": "stream",
     "text": [
      "SingleConvModel(\n",
      "  (conv): Conv2d(1, 1, kernel_size=(3, 3), stride=(1, 1))\n",
      ")\n",
      "OrderedDict([('conv.weight', tensor([[[[-0.1645,  0.2326,  0.1386],\n",
      "          [-0.2683,  0.2556,  0.0943],\n",
      "          [-0.2318,  0.0654,  0.0817]]]])), ('conv.bias', tensor([-0.1088]))])\n"
     ]
    }
   ],
   "source": [
    "model_int8 = torch.ao.quantization.quantize_dynamic(\n",
    "    model,  # the original model\n",
    "    {torch.nn.Conv2d},  # a set of layers to dynamically quantize\n",
    "    dtype=torch.qint8)  # the target dtype for quantized weights\n",
    "\n",
    "print(model_int8)\n",
    "model_int8_s = model_int8.state_dict()\n",
    "print(model_int8_s)"
   ]
  },
  {
   "cell_type": "markdown",
   "id": "abd9d6e0",
   "metadata": {},
   "source": [
    "변화없고 추가적인 파라미터 없음"
   ]
  },
  {
   "cell_type": "markdown",
   "id": "3574af86",
   "metadata": {},
   "source": [
    "# 정적 양자화\n",
    "\n",
    "일반적인 방법으로 생성한 모델의 경우 적용 안되는 것으로 보임.\n",
    "생성할 때 QuantStub과 DeQuantStub 필요\n"
   ]
  },
  {
   "cell_type": "code",
   "execution_count": 44,
   "id": "53f12194",
   "metadata": {},
   "outputs": [
    {
     "name": "stdout",
     "output_type": "stream",
     "text": [
      "M(\n",
      "  (quant): QuantStub()\n",
      "  (conv): Conv2d(1, 1, kernel_size=(3, 3), stride=(1, 1))\n",
      "  (relu): ReLU()\n",
      "  (dequant): DeQuantStub()\n",
      ")\n",
      "OrderedDict([('conv.weight', tensor([[[[-0.2928,  0.0156,  0.2505],\n",
      "          [ 0.1452,  0.1279,  0.3321],\n",
      "          [ 0.0904,  0.2869,  0.1864]]]])), ('conv.bias', tensor([-0.0878]))])\n"
     ]
    }
   ],
   "source": [
    "import torch\n",
    "\n",
    "# define a floating point model where some layers could be statically quantized\n",
    "class M(torch.nn.Module):\n",
    "    def __init__(self):\n",
    "        super().__init__()\n",
    "        # QuantStub converts tensors from floating point to quantized\n",
    "        self.quant = torch.ao.quantization.QuantStub()\n",
    "        self.conv = torch.nn.Conv2d(1, 1, 3)\n",
    "        self.relu = torch.nn.ReLU()\n",
    "        # DeQuantStub converts tensors from quantized to floating point\n",
    "        self.dequant = torch.ao.quantization.DeQuantStub()\n",
    "\n",
    "    def forward(self, x):\n",
    "        # manually specify where tensors will be converted from floating\n",
    "        # point to quantized in the quantized model\n",
    "        x = self.quant(x)\n",
    "        x = self.conv(x)\n",
    "        x = self.relu(x)\n",
    "        # manually specify where tensors will be converted from quantized\n",
    "        # to floating point in the quantized model\n",
    "        x = self.dequant(x)\n",
    "        return x\n",
    "    \n",
    "# 모델 생성\n",
    "model_fp32 = M()\n",
    "# 평가 모드\n",
    "model_fp32.eval()\n",
    "\n",
    "print(model_fp32)\n",
    "print(model_fp32.state_dict())"
   ]
  },
  {
   "cell_type": "code",
   "execution_count": 45,
   "id": "66fbac8d",
   "metadata": {},
   "outputs": [
    {
     "name": "stdout",
     "output_type": "stream",
     "text": [
      "M(\n",
      "  (quant): Quantize(scale=tensor([0.0430]), zero_point=tensor([63]), dtype=torch.quint8)\n",
      "  (conv): QuantizedConvReLU2d(1, 1, kernel_size=(3, 3), stride=(1, 1), scale=0.008406509645283222, zero_point=0)\n",
      "  (relu): Identity()\n",
      "  (dequant): DeQuantize()\n",
      ")\n",
      "OrderedDict([('quant.scale', tensor([0.0430])), ('quant.zero_point', tensor([63])), ('conv.weight', tensor([[[[-0.2917,  0.0156,  0.2501],\n",
      "          [ 0.1459,  0.1276,  0.3308],\n",
      "          [ 0.0912,  0.2865,  0.1875]]]], size=(1, 1, 3, 3), dtype=torch.qint8,\n",
      "       quantization_scheme=torch.per_channel_affine,\n",
      "       scale=tensor([0.0026], dtype=torch.float64), zero_point=tensor([0]),\n",
      "       axis=0)), ('conv.bias', Parameter containing:\n",
      "tensor([-0.0878], requires_grad=True)), ('conv.scale', tensor(0.0084)), ('conv.zero_point', tensor(0))])\n"
     ]
    }
   ],
   "source": [
    "# Backend\n",
    "model_fp32.qconfig = torch.ao.quantization.get_default_qconfig('x86')\n",
    "\n",
    "# Fuse the activations to preceding layers, where applicable.\n",
    "# This needs to be done manually depending on the model architecture.\n",
    "# Common fusions include `conv + relu` and `conv + batchnorm + relu`\n",
    "model_fp32_fused = torch.ao.quantization.fuse_modules(model_fp32, [['conv', 'relu']])\n",
    "\n",
    "# Prepare the model for static quantization. This inserts observers in\n",
    "# the model that will observe activation tensors during calibration.\n",
    "model_fp32_prepared = torch.ao.quantization.prepare(model_fp32_fused)\n",
    "\n",
    "# calibrate the prepared model to determine quantization parameters for activations\n",
    "# in a real world setting, the calibration would be done with a representative dataset\n",
    "input_fp32 = torch.randn(4, 1, 4, 4)\n",
    "model_fp32_prepared(input_fp32)\n",
    "\n",
    "# Convert the observed model to a quantized model. This does several things:\n",
    "# quantizes the weights, computes and stores the scale and bias value to be\n",
    "# used with each activation tensor, and replaces key operators with quantized\n",
    "# implementations.\n",
    "model_int8 = torch.ao.quantization.convert(model_fp32_prepared)\n",
    "\n",
    "# run the model, relevant calculations will happen in int8\n",
    "# res = model_int8(input_fp32)\n",
    "# print(res)\n",
    "\n",
    "# 모델 출력\n",
    "print(model_int8)\n",
    "\n",
    "print(model_int8.state_dict())"
   ]
  },
  {
   "cell_type": "markdown",
   "id": "657916e5",
   "metadata": {},
   "source": [
    "quant, conv, relu, dequant 레이어 모두 레이어의 유형이 바뀌고 quantization parameter가 추가됨"
   ]
  },
  {
   "cell_type": "code",
   "execution_count": null,
   "id": "00a5f302",
   "metadata": {},
   "outputs": [],
   "source": []
  }
 ],
 "metadata": {
  "kernelspec": {
   "display_name": "Python 3 (ipykernel)",
   "language": "python",
   "name": "python3"
  },
  "language_info": {
   "codemirror_mode": {
    "name": "ipython",
    "version": 3
   },
   "file_extension": ".py",
   "mimetype": "text/x-python",
   "name": "python",
   "nbconvert_exporter": "python",
   "pygments_lexer": "ipython3",
   "version": "3.11.4"
  }
 },
 "nbformat": 4,
 "nbformat_minor": 5
}
