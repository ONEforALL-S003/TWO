{
 "cells": [
  {
   "cell_type": "code",
   "execution_count": null,
   "id": "e7d1f687",
   "metadata": {},
   "outputs": [],
   "source": [
    "# torch 설치\n",
    "!pip install torch"
   ]
  },
  {
   "cell_type": "markdown",
   "id": "1cfecff3",
   "metadata": {},
   "source": [
    "## 1. Create Single Operator PyTorch Model"
   ]
  },
  {
   "cell_type": "code",
   "execution_count": null,
   "id": "0bf8724f",
   "metadata": {},
   "outputs": [],
   "source": [
    "import torch\n",
    "import torch.nn as nn\n",
    "\n",
    "class SingleConvModel(nn.Module):\n",
    "    def __init__(self, in_channels, out_channels, kernel_size):\n",
    "        super(SingleConvModel, self).__init__()\n",
    "        self.conv = nn.Conv2d(in_channels, out_channels, kernel_size)\n",
    "\n",
    "    def forward(self, x):\n",
    "        x = self.conv(x)\n",
    "        return x\n",
    "\n",
    "# 모델 인스턴스 생성\n",
    "in_channels = 1  # 입력 이미지의 채널 수 (예: RGB 이미지의 경우 3)\n",
    "out_channels = 1  # 출력 채널 수\n",
    "kernel_size = 3  # 컨볼루션 커널 크기 (3x3 커널)\n",
    "\n",
    "model = SingleConvModel(in_channels, out_channels, kernel_size)\n",
    "\n",
    "# 모델 사용 예제\n",
    "input_tensor = torch.randn(1, in_channels, 5, 5)  # 3x3 크기의 이미지를 입력으로 가정\n",
    "output_tensor = model(input_tensor)\n",
    "\n",
    "print(output_tensor.shape)  # 출력 텐서의 크기 출력\n",
    "\n",
    "# 모델 저장\n",
    "torch.save(model, \"Conv2d.pth\")"
   ]
  },
  {
   "cell_type": "markdown",
   "id": "f1cfbfb3",
   "metadata": {},
   "source": [
    "## 2. Analyze PyTorch Model"
   ]
  },
  {
   "cell_type": "code",
   "execution_count": null,
   "id": "4848ad9c",
   "metadata": {},
   "outputs": [],
   "source": [
    "import torch\n",
    "\n",
    "# 모델 파일 불러오기\n",
    "model_path = \"Conv2d.pth\"\n",
    "loaded_model = torch.load(model_path)\n",
    "\n",
    "# state_dict 활용한 모델 내부 구조 확인\n",
    "state_dict = loaded_model.state_dict()\n",
    "for param_name, param_tensor in state_dict.items():\n",
    "    print(f\"Parameter Name: {param_name}\")\n",
    "    print(f\"Parameter Shape: {param_tensor.shape}\")\n",
    "    if 'scale' in param_name or 'zerop' in param_name:\n",
    "        print(f\"Parameter Name: {param_name}\")\n",
    "        print(f\"Parameter Value: {param_tensor.item()}\")\n",
    "\n",
    "\n",
    "# 모델 출력\n",
    "print(\"model --------------------\")\n",
    "print(loaded_model)\n",
    "print(\"model --------------------\\n\")\n",
    "# state dict 출력\n",
    "print(\"state_dict ---------------\")\n",
    "print(state_dict)\n",
    "print(\"state_dict ---------------\\n\")"
   ]
  }
 ],
 "metadata": {
  "kernelspec": {
   "display_name": "Python 3 (ipykernel)",
   "language": "python",
   "name": "python3"
  },
  "language_info": {
   "codemirror_mode": {
    "name": "ipython",
    "version": 3
   },
   "file_extension": ".py",
   "mimetype": "text/x-python",
   "name": "python",
   "nbconvert_exporter": "python",
   "pygments_lexer": "ipython3",
   "version": "3.11.4"
  }
 },
 "nbformat": 4,
 "nbformat_minor": 5
}
